{
 "cells": [
  {
   "cell_type": "code",
   "execution_count": 1,
   "metadata": {},
   "outputs": [],
   "source": [
    "from objects import objects_new2 as obj\n",
    "from animation import animation as anim"
   ]
  },
  {
   "cell_type": "code",
   "execution_count": 2,
   "metadata": {},
   "outputs": [],
   "source": [
    "import numpy as np\n",
    "import matplotlib\n",
    "import matplotlib.pyplot as plt\n",
    "import matplotlib.patches as patches\n",
    "import matplotlib.path as path\n",
    "import matplotlib.lines as lines\n",
    "import matplotlib.animation as animation\n",
    "import math\n",
    "from scipy.stats import norm\n",
    "import pickle\n",
    "import io\n",
    "import time\n",
    "import gc"
   ]
  },
  {
   "cell_type": "code",
   "execution_count": 3,
   "metadata": {},
   "outputs": [],
   "source": [
    "# def data_init():\n",
    "np.random.seed(19680801)\n",
    "n_population = int(1e6)\n",
    "mean_of_popul = 165\n",
    "std_of_popul = 8\n",
    "population = std_of_popul*np.random.randn(n_population) + mean_of_popul\n",
    "n_try = 10000\n",
    "sample_size = 50    \n",
    "data_to_plot = np.zeros(n_try)\n",
    "n_bins = 15\n",
    "\n",
    "# First simples ---------------------------------------------------------------------------------\n",
    "\n",
    "\n",
    "# Hist ---------------------------------------------------------------------------------\n",
    "\n",
    "for i in range(n_try):\n",
    "    data_to_plot[i] = np.mean(np.random.choice(population,sample_size))\n",
    "\n",
    "xlim = [math.floor(data_to_plot.min()), math.floor(data_to_plot.max())+1]\n",
    "bins = range(int(xlim[0]),int(xlim[1])+1)\n",
    "bins = np.linspace(xlim[0],xlim[1]+1,(xlim[1]+2-xlim[0])*2-1)\n",
    "n, bins = np.histogram(data_to_plot, bins)\n",
    "x_ticks = np.linspace(100,200,101)\n",
    "# Pdf\n",
    "\n",
    "x = np.linspace(bins[0]-10,bins[-1]+10,5000)\n",
    "mean = mean_of_popul\n",
    "std = std_of_popul/np.sqrt(sample_size)\n",
    "scale = np.sum(n)/2\n",
    "max_pdf = norm.pdf(mean,mean,std)\n",
    "center = 167"
   ]
  },
  {
   "cell_type": "code",
   "execution_count": 4,
   "metadata": {},
   "outputs": [
    {
     "name": "stderr",
     "output_type": "stream",
     "text": [
      "C:\\ProgramData\\Anaconda3\\lib\\site-packages\\matplotlib\\cbook\\__init__.py:424: MatplotlibDeprecationWarning: \n",
      "Passing one of 'on', 'true', 'off', 'false' as a boolean is deprecated; use an actual boolean (True/False) instead.\n",
      "  warn_deprecated(\"2.2\", \"Passing one of 'on', 'true', 'off', 'false' as a \"\n"
     ]
    },
    {
     "data": {
      "image/png": "[encoded data removed]",
      "text/plain": [
       "<Figure size 1920x1080 with 1 Axes>"
      ]
     },
     "metadata": {},
     "output_type": "display_data"
    }
   ],
   "source": [
    "my_dpi = 96\n",
    "frame = obj.Frame(my_dpi=my_dpi)\n",
    "frame.axes.set_xlim(xlim)\n",
    "frame.axes.set_xticks(bins.astype('int'))\n",
    "frame.axes.set_ylim(-0.3 * max_pdf, 1.1 * max_pdf)\n",
    "frame.update_axes_ratio()\n",
    "\n",
    "hist = obj.Hist(bins, n, data_to_plot)\n",
    "norm_pdf = obj.Dist_norm(mean, std, x, norm.pdf)\n",
    "point1 = obj.Point(x=data_to_plot[0], rx=0.3)\n",
    "point2 = obj.Point(x=data_to_plot[1], rx=0.3)\n",
    "frame.add_objects([hist, norm_pdf, point1, point2])"
   ]
  },
  {
   "cell_type": "code",
   "execution_count": 5,
   "metadata": {},
   "outputs": [],
   "source": [
    "actions = {}\n",
    "scene = anim.Scene(frame.fig, [], fps = 60)\n",
    "\n",
    "# Point 1 app\n",
    "t_begin = 0.5\n",
    "t_end = t_begin + 0.75\n",
    "actions['p1_app'] = point1.appear(t_begin, t_end) \n",
    "scene.add_actions([actions['p1_app']])\n",
    "\n",
    "# Point 2 app\n",
    "t_begin = actions['p1_app'].end_time + 1\n",
    "t_end = t_begin + 0.75\n",
    "actions['p2_app'] = point2.appear(t_begin, t_end) \n",
    "scene.add_actions([actions['p2_app']])\n",
    "\n",
    "# Hist\n",
    "t_begin = actions['p2_app'].end_time + 1\n",
    "t_end = t_begin + 2\n",
    "actions['hist_app'] = hist.appear_down_to_up(t_begin, t_end) \n",
    "scene.add_actions([actions['hist_app']])\n",
    "\n",
    "# Points disapp\n",
    "t_begin = actions['hist_app'].end_time + 1\n",
    "t_end = t_begin + 0.75\n",
    "actions['p1_disapp'] = point1.disappear(t_begin, t_end) \n",
    "scene.add_actions([actions['p1_disapp']])\n",
    "actions['p2_disapp'] = point2.disappear(t_begin, t_end) \n",
    "scene.add_actions([actions['p2_disapp']])\n",
    "\n",
    "# Pdf app\n",
    "t_begin = actions['p2_disapp'].end_time + 1\n",
    "t_end = t_begin + 2\n",
    "actions['pdf_app'] = norm_pdf.pdf_appear_left_to_right(t_begin, t_end, frame) \n",
    "scene.add_actions([actions['pdf_app']])\n",
    "\n",
    "# Point 1 app\n",
    "t_begin = actions['pdf_app'].end_time + 1\n",
    "t_end = t_begin + 0.75\n",
    "actions['p1_app_2'] = point1.appear(t_begin, t_end) \n",
    "scene.add_actions([actions['p1_app_2']])\n",
    "\n",
    "# Hist disapp\n",
    "t_begin = actions['p1_app_2'].end_time + 1\n",
    "t_end = t_begin + 1.5\n",
    "actions['hist_disapp_u2d'] = hist.disappear_up_to_down(t_begin, t_end) \n",
    "scene.add_actions([actions['hist_disapp_u2d']])\n",
    "actions['hist_disapp_trans'] = hist.disappear_trans(t_begin, t_end) \n",
    "scene.add_actions([actions['hist_disapp_trans']])\n",
    "\n",
    "# Zoom\n",
    "t_begin = actions['hist_disapp_trans'].end_time + 1\n",
    "t_end = t_begin + 2.5\n",
    "actions['zoom'] = frame.zoom(t_begin, t_end, data_to_plot[0] - 10, data_to_plot[0] + 10,\n",
    "                            -max_pdf) \n",
    "scene.add_actions(actions['zoom'])\n",
    "\n",
    "# Moving pdf to 162\n",
    "t_begin = actions['zoom'][0].end_time + 1\n",
    "t_end = t_begin + 1\n",
    "actions['move162'] = norm_pdf.move(t_begin, t_end, 162.) \n",
    "scene.add_actions([actions['move162']])\n",
    "speed = np.abs((data_to_plot[0] - 162))\n",
    "\n",
    "# Moving pdf to 174\n",
    "t_begin = actions['move162'].end_time + 1\n",
    "t_end = t_begin + (174-162)/(speed * 1.5)\n",
    "actions['move174'] = norm_pdf.move(t_begin, t_end, 174.) \n",
    "scene.add_actions([actions['move174']])\n",
    "\n",
    "# Moving pdf to 170\n",
    "t_begin = actions['move174'].end_time + 1\n",
    "t_end = t_begin + (174-170)/(speed)\n",
    "actions['move170'] = norm_pdf.move(t_begin, t_end, 170.) \n",
    "scene.add_actions([actions['move170']])\n",
    "\n",
    "# Moving pdf to center\n",
    "t_begin = actions['move170'].end_time + 1\n",
    "t_end = t_begin + 1.5\n",
    "actions['move_c'] = norm_pdf.move(t_begin, t_end, center) \n",
    "scene.add_actions([actions['move_c']])\n",
    "\n",
    "# Point disapp\n",
    "t_begin = actions['move_c'].end_time + 1\n",
    "t_end = t_begin + 0.75\n",
    "actions['p1_disapp2'] = point1.disappear(t_begin, t_end) \n",
    "scene.add_actions([actions['p1_disapp2']])\n",
    "\n",
    "# ticks disapp\n",
    "t_begin = actions['p1_disapp2'].end_time + 1\n",
    "t_end = t_begin + 0.75\n",
    "actions['ticks_disapp'] = frame.ticks_disappear(t_begin, t_end)\n",
    "scene.add_actions([actions['ticks_disapp']])\n",
    "\n",
    "# Mean line appear\n",
    "t_begin = actions['ticks_disapp'].end_time + 1\n",
    "t_end = t_begin + 0.75\n",
    "actions['ml_appear'] = norm_pdf.mean_line_appear(t_begin, t_end)\n",
    "scene.add_actions([actions['ml_appear']])\n",
    "\n",
    "# Area appear\n",
    "t_begin = actions['ml_appear'].end_time + 1\n",
    "t_end = t_begin + 1\n",
    "actions['area_appear'] = norm_pdf.area_appear_from_mean(t_begin, t_end, 0.05)\n",
    "actions['ml_change_alpha'] = norm_pdf. mean_line_change_alpha(t_begin, t_end, 0.5)\n",
    "scene.add_actions([actions['area_appear'], actions['ml_change_alpha']])\n",
    "\n",
    "# # Text appear\n",
    "# t_begin = actions['ml_appear'].end_time + 1\n",
    "# t_end = t_begin + 1\n",
    "# actions['text_appear'] = norm_pdf.area.appear_text(t_begin, t_end)\n",
    "# scene.add_actions([actions['text_appear']])\n",
    "\n",
    "# Moving pdf to center\n",
    "t_begin = actions['area_appear'].end_time + 3\n",
    "t_end = t_begin + 1.5\n",
    "actions['t'] = norm_pdf.move(t_begin, t_end, 162) \n",
    "scene.add_actions([actions['t']])\n",
    "\n",
    "scene.run(dpi=my_dpi,file_name='test.mp4')#,times=[29.,100])"
   ]
  },
  {
   "cell_type": "code",
   "execution_count": 6,
   "metadata": {
    "scrolled": false
   },
   "outputs": [
    {
     "data": {
      "text/plain": [
       "<Figure size 432x288 with 0 Axes>"
      ]
     },
     "metadata": {},
     "output_type": "display_data"
    }
   ],
   "source": [
    "plt.draw()\n",
    "plt.show()"
   ]
  },
  {
   "cell_type": "code",
   "execution_count": 7,
   "metadata": {},
   "outputs": [
    {
     "data": {
      "text/plain": [
       "{'left': '', 'center': '', 'right': ''}"
      ]
     },
     "execution_count": 7,
     "metadata": {},
     "output_type": "execute_result"
    }
   ],
   "source": [
    "norm_pdf.texts"
   ]
  },
  {
   "cell_type": "code",
   "execution_count": null,
   "metadata": {},
   "outputs": [],
   "source": []
  }
 ],
 "metadata": {
  "kernelspec": {
   "display_name": "Python 3",
   "language": "python",
   "name": "python3"
  },
  "language_info": {
   "codemirror_mode": {
    "name": "ipython",
    "version": 3
   },
   "file_extension": ".py",
   "mimetype": "text/x-python",
   "name": "python",
   "nbconvert_exporter": "python",
   "pygments_lexer": "ipython3",
   "version": "3.7.1"
  }
 },
 "nbformat": 4,
 "nbformat_minor": 2
}
